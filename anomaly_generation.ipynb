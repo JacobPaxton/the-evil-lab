{
 "cells": [
  {
   "cell_type": "markdown",
   "id": "e03c9c05",
   "metadata": {},
   "source": [
    "# So we're going to build a cyber analytics test environment.\n",
    "And you're going to see me learn how to do that."
   ]
  },
  {
   "cell_type": "code",
   "execution_count": null,
   "id": "c33ff40b",
   "metadata": {},
   "outputs": [],
   "source": []
  }
 ],
 "metadata": {
  "kernelspec": {
   "display_name": "Python 3 (ipykernel)",
   "language": "python",
   "name": "python3"
  },
  "language_info": {
   "codemirror_mode": {
    "name": "ipython",
    "version": 3
   },
   "file_extension": ".py",
   "mimetype": "text/x-python",
   "name": "python",
   "nbconvert_exporter": "python",
   "pygments_lexer": "ipython3",
   "version": "3.8.8"
  }
 },
 "nbformat": 4,
 "nbformat_minor": 5
}
